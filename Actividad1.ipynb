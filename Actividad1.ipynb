{
  "nbformat": 4,
  "nbformat_minor": 0,
  "metadata": {
    "colab": {
      "provenance": [],
      "include_colab_link": true
    },
    "kernelspec": {
      "name": "python3",
      "display_name": "Python 3"
    },
    "language_info": {
      "name": "python"
    }
  },
  "cells": [
    {
      "cell_type": "markdown",
      "metadata": {
        "id": "view-in-github",
        "colab_type": "text"
      },
      "source": [
        "<a href=\"https://colab.research.google.com/github/joseqv23k-sys/SMART-SYSTEMS/blob/main/Actividad1.ipynb\" target=\"_parent\"><img src=\"https://colab.research.google.com/assets/colab-badge.svg\" alt=\"Open In Colab\"/></a>"
      ]
    },
    {
      "cell_type": "markdown",
      "source": [
        "# CÓDIGO"
      ],
      "metadata": {
        "id": "f3XTm9Kqjban"
      }
    },
    {
      "cell_type": "code",
      "source": [
        "import pandas as pd\n",
        "from sklearn.datasets import load_iris\n",
        "from sklearn.neighbors import KNeighborsClassifier\n",
        "from sklearn.model_selection import train_test_split\n",
        "from sklearn.preprocessing import StandardScaler\n",
        "\n",
        "\n",
        "# Cargar el conjunto de datos Iris\n",
        "iris = load_iris()\n",
        "df= pd.DataFrame (data=iris.data, columns= iris.feature_names)\n",
        "df['target']= iris.target\n",
        "y = iris.target\n",
        "\n",
        "# Dividir en conjunto de entrenamiento y prueba\n",
        "X= df.drop('target', axis=1)\n",
        "y= df['target']\n",
        "X_train, X_test, y_train, y_test =train_test_split(X, y, test_size=0.2, random_state=42)\n",
        "\n",
        "#normalizar datos\n",
        "scaler= StandardScaler()\n",
        "X_train_scaled= scaler.fit_transform(X_train)\n",
        "X_test_scaled = scaler.transform(X_test)\n",
        "\n",
        "# Crear y entrenar el modelo KNN\n",
        "knn = KNeighborsClassifier(n_neighbors=5)\n",
        "knn.fit(X_train_scaled, y_train)\n",
        "\n",
        "# Clasificar con KNN\n",
        "def clasificar_punto(punto):\n",
        "  punto_df= pd.DataFrame([punto], columns=iris.feature_names)\n",
        "  punto_scaled=scaler.transform(punto_df)\n",
        "  prediccion= knn.predict(punto_scaled)[0]\n",
        "  probabilidad =max(knn.predict_proba(punto_scaled)[0])\n",
        "  return iris.target_names[prediccion], probabilidad\n",
        "\n",
        "#nuevo punto\n",
        "nuevo_punto=[5.1, 3.5, 1.5, 0.8] #longitud del sepalo, ancho del sepalo, long petalo, ancho del petalo\n",
        "clase, confianza= clasificar_punto(nuevo_punto)\n",
        "# Imprimir información\n",
        "print(f\"punto nuevo: {dict(zip(iris.feature_names, nuevo_punto))}\")\n",
        "print(f\"Clase predicha: {clase}\")\n",
        "print(f\"nivel del confianza: {confianza: .0%}\")\n"
      ],
      "metadata": {
        "colab": {
          "base_uri": "https://localhost:8080/"
        },
        "id": "QhBceBxKYJMP",
        "outputId": "7c7db739-aff8-4b02-f5dc-45392e4f419e"
      },
      "execution_count": null,
      "outputs": [
        {
          "output_type": "stream",
          "name": "stdout",
          "text": [
            "punto nuevo: {'sepal length (cm)': 5.1, 'sepal width (cm)': 3.5, 'petal length (cm)': 1.5, 'petal width (cm)': 0.8}\n",
            "Clase predicha: setosa\n",
            "nivel del confianza:  100%\n"
          ]
        }
      ]
    }
  ]
}