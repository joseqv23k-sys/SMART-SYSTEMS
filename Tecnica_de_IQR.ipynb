{
  "nbformat": 4,
  "nbformat_minor": 0,
  "metadata": {
    "colab": {
      "provenance": [],
      "toc_visible": true,
      "include_colab_link": true
    },
    "kernelspec": {
      "name": "python3",
      "display_name": "Python 3"
    },
    "language_info": {
      "name": "python"
    }
  },
  "cells": [
    {
      "cell_type": "markdown",
      "metadata": {
        "id": "view-in-github",
        "colab_type": "text"
      },
      "source": [
        "<a href=\"https://colab.research.google.com/github/joseqv23k-sys/SMART-SYSTEMS/blob/main/Tecnica_de_IQR.ipynb\" target=\"_parent\"><img src=\"https://colab.research.google.com/assets/colab-badge.svg\" alt=\"Open In Colab\"/></a>"
      ]
    },
    {
      "cell_type": "code",
      "execution_count": 3,
      "metadata": {
        "colab": {
          "base_uri": "https://localhost:8080/"
        },
        "id": "xufSr_B661VQ",
        "outputId": "b77971e0-8978-4fec-cc9c-bf6ae9bdeeeb"
      },
      "outputs": [
        {
          "output_type": "stream",
          "name": "stdout",
          "text": [
            "Overwriting tecnicaiqr.cpp\n"
          ]
        }
      ],
      "source": [
        "\n",
        "%%writefile tecnicaiqr.cpp\n",
        "#include <iostream>\n",
        "using namespace std;\n",
        "\n",
        "// Lista con datos de ejemplo (mediciones de voltaje en mV)\n",
        "int datos[] = {\n",
        "  50,52,48,51,49,53,50,47,52,50,55,60,45,40,54,56,49,52,51,53,\n",
        "  50,48,55,52,49,50,51,53,47,46,54,55,48,52,49,50,52,51,53,50,\n",
        "  54,55,48,52,49,50,47,53,51,52,50,48,55,54,46,52,49,53,50,51,\n",
        "  52,50,48,55,47,49,53,51,52,54,50,48,55,52,49,50,51,53,47,52,\n",
        "  54,55,48,49,50,51,52,53,47,46,54,55,48,52,49,50,47,53,51,52,\n",
        "  50,48,55,54,46,52,49,53,50,51,52,50,48,55,47,49,53,51,52,54,\n",
        "  5, 100, 80, 120, 3, 150\n",
        "};\n",
        "int n = sizeof(datos) / sizeof(datos[0]);\n",
        "\n",
        "int main() {\n",
        "  // Ordenar con burbuja\n",
        "  for (int i = 0; i < n - 1; i++) {\n",
        "    for (int j = 0; j < n - i - 1; j++) {\n",
        "      if (datos[j] > datos[j + 1]) {\n",
        "        int temp = datos[j];\n",
        "        datos[j] = datos[j + 1];\n",
        "        datos[j + 1] = temp;\n",
        "      }\n",
        "    }\n",
        "  }\n",
        "\n",
        "  // Calcular cuartiles\n",
        "  int Q1 = datos[n / 4];\n",
        "  int Q3 = datos[(3 * n) / 4];\n",
        "  int IQR = Q3 - Q1;\n",
        "\n",
        "  float lim_inf = Q1 - 1.5 * IQR;\n",
        "  float lim_sup = Q3 + 1.5 * IQR;\n",
        "\n",
        "  // Mostrar resultados\n",
        "  cout << \"Cantidad de datos: \" << n << endl;\n",
        "  cout << \"Q1 = \" << Q1 << endl;\n",
        "  cout << \"Q3 = \" << Q3 << endl;\n",
        "  cout << \"IQR = \" << IQR << endl;\n",
        "  cout << \"Limite inferior = \" << lim_inf << endl;\n",
        "  cout << \"Limite superior = \" << lim_sup << endl;\n",
        "\n",
        "  cout << \"Outliers encontrados: \";\n",
        "  for (int i = 0; i < n; i++) {\n",
        "    if (datos[i] < lim_inf || datos[i] > lim_sup) {\n",
        "      cout << datos[i] << \" \";\n",
        "    }\n",
        "  }\n",
        "  cout << endl;\n",
        "\n",
        "  return 0;\n",
        "}"
      ]
    },
    {
      "cell_type": "code",
      "source": [
        "!g++ tecnicaiqr.cpp -o iqr\n",
        "!./iqr"
      ],
      "metadata": {
        "colab": {
          "base_uri": "https://localhost:8080/"
        },
        "id": "JcNZi0Hd5Ebx",
        "outputId": "a5f90522-1f24-45b6-c9ae-c2352afd52d5"
      },
      "execution_count": 6,
      "outputs": [
        {
          "output_type": "stream",
          "name": "stdout",
          "text": [
            "Cantidad de datos: 126\n",
            "Q1 = 49\n",
            "Q3 = 53\n",
            "IQR = 4\n",
            "Limite inferior = 43\n",
            "Limite superior = 59\n",
            "Outliers encontrados: 3 5 40 60 80 100 120 150 \n"
          ]
        }
      ]
    }
  ]
}